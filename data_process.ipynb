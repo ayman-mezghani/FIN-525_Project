{
 "cells": [
  {
   "cell_type": "code",
   "execution_count": null,
   "id": "3f5e0599",
   "metadata": {},
   "outputs": [],
   "source": [
    "import pandas as pd\n",
    "import numpy as np"
   ]
  },
  {
   "cell_type": "code",
   "execution_count": null,
   "id": "68b08dc4",
   "metadata": {},
   "outputs": [],
   "source": [
    "tickers = pd.read_csv('tickers/s&p.csv')"
   ]
  },
  {
   "cell_type": "code",
   "execution_count": null,
   "id": "0ad7c4f6",
   "metadata": {},
   "outputs": [],
   "source": [
    "tickers"
   ]
  },
  {
   "cell_type": "code",
   "execution_count": null,
   "id": "45f36213-cf89-409c-8ca5-6dc72c74c268",
   "metadata": {},
   "outputs": [],
   "source": [
    "interval = '5m'"
   ]
  },
  {
   "cell_type": "code",
   "execution_count": null,
   "id": "66720de4",
   "metadata": {},
   "outputs": [],
   "source": [
    "data_path = f'data/{interval}/'"
   ]
  },
  {
   "cell_type": "code",
   "execution_count": null,
   "id": "413e9278",
   "metadata": {},
   "outputs": [],
   "source": [
    "df = pd.read_parquet(data_path + 'data.parquet')\n",
    "df"
   ]
  },
  {
   "cell_type": "code",
   "execution_count": null,
   "id": "57aecc77",
   "metadata": {},
   "outputs": [],
   "source": [
    "df.columns = df.columns.swaplevel()"
   ]
  },
  {
   "cell_type": "code",
   "execution_count": null,
   "id": "325f672b",
   "metadata": {},
   "outputs": [],
   "source": [
    "df"
   ]
  },
  {
   "cell_type": "code",
   "execution_count": null,
   "id": "ea501ec9",
   "metadata": {},
   "outputs": [],
   "source": [
    "df = df['Close'].copy()\n",
    "df.ffill(inplace=True)"
   ]
  },
  {
   "cell_type": "code",
   "execution_count": null,
   "id": "036621c3",
   "metadata": {},
   "outputs": [],
   "source": [
    "df.dropna(how='all', inplace=True)\n",
    "df"
   ]
  },
  {
   "cell_type": "code",
   "execution_count": null,
   "id": "675c2125",
   "metadata": {},
   "outputs": [],
   "source": [
    "df.bfill(inplace=True)\n",
    "df.dropna(axis=1, inplace=True)\n",
    "df"
   ]
  },
  {
   "cell_type": "code",
   "execution_count": null,
   "id": "2d8f6a61",
   "metadata": {},
   "outputs": [],
   "source": [
    "df.to_parquet(f\"data/clean/{interval}/data_clean_{interval}_close.parquet\")"
   ]
  },
  {
   "cell_type": "code",
   "execution_count": null,
   "id": "f8cbed22",
   "metadata": {},
   "outputs": [],
   "source": [
    "df = np.log(df).diff().dropna(how='all')\n",
    "df"
   ]
  },
  {
   "cell_type": "code",
   "execution_count": null,
   "id": "f6315461",
   "metadata": {},
   "outputs": [],
   "source": [
    "df.to_parquet(f\"data/clean/{interval}/data_clean_{interval}_log_ret.parquet\")"
   ]
  }
 ],
 "metadata": {
  "kernelspec": {
   "display_name": "Python 3",
   "language": "python",
   "name": "python3"
  },
  "language_info": {
   "codemirror_mode": {
    "name": "ipython",
    "version": 3
   },
   "file_extension": ".py",
   "mimetype": "text/x-python",
   "name": "python",
   "nbconvert_exporter": "python",
   "pygments_lexer": "ipython3",
   "version": "3.8.12"
  }
 },
 "nbformat": 4,
 "nbformat_minor": 5
}
