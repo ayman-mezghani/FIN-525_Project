{
 "cells": [
  {
   "cell_type": "code",
   "execution_count": null,
   "id": "f34ee034",
   "metadata": {},
   "outputs": [],
   "source": [
    "import pandas as pd\n",
    "import numpy as np"
   ]
  },
  {
   "cell_type": "code",
   "execution_count": null,
   "id": "8accf876",
   "metadata": {},
   "outputs": [],
   "source": [
    "tickers = pd.read_csv('tickers/s&p.csv')"
   ]
  },
  {
   "cell_type": "code",
   "execution_count": null,
   "id": "0a08e007",
   "metadata": {},
   "outputs": [],
   "source": [
    "tickers"
   ]
  },
  {
   "cell_type": "code",
   "execution_count": null,
   "id": "10535cbb",
   "metadata": {},
   "outputs": [],
   "source": [
    "data_path = 'data/5m/'"
   ]
  },
  {
   "cell_type": "code",
   "execution_count": null,
   "id": "f04abfc3",
   "metadata": {},
   "outputs": [],
   "source": [
    "df = pd.read_parquet(data_path + 'data.parquet')\n",
    "df"
   ]
  },
  {
   "cell_type": "code",
   "execution_count": null,
   "id": "cc24af72",
   "metadata": {},
   "outputs": [],
   "source": [
    "df.columns = df.columns.swaplevel()"
   ]
  },
  {
   "cell_type": "code",
   "execution_count": null,
   "id": "f4deb007",
   "metadata": {},
   "outputs": [],
   "source": [
    "df"
   ]
  },
  {
   "cell_type": "code",
   "execution_count": null,
   "id": "f6820b32",
   "metadata": {},
   "outputs": [],
   "source": [
    "df = df['Close'].copy()\n",
    "df.ffill(inplace=True)"
   ]
  },
  {
   "cell_type": "code",
   "execution_count": null,
   "id": "e20c8c77",
   "metadata": {},
   "outputs": [],
   "source": [
    "df.dropna(how='all', inplace=True)\n",
    "df"
   ]
  },
  {
   "cell_type": "code",
   "execution_count": null,
   "id": "4b66c1d7",
   "metadata": {},
   "outputs": [],
   "source": [
    "df.bfill(inplace=True)\n",
    "df.dropna(axis=1, inplace=True)\n",
    "df"
   ]
  },
  {
   "cell_type": "code",
   "execution_count": null,
   "id": "1345245c",
   "metadata": {},
   "outputs": [],
   "source": [
    "#Export df with close price for introduction\n",
    "df.to_parquet(\"data/clean/5m/data_clean_1m_close.parquet\")"
   ]
  },
  {
   "cell_type": "code",
   "execution_count": null,
   "id": "311cc54c",
   "metadata": {},
   "outputs": [],
   "source": [
    "df = np.log(df).diff().dropna(how='all')\n",
    "df"
   ]
  },
  {
   "cell_type": "code",
   "execution_count": null,
   "id": "c38c1b74",
   "metadata": {},
   "outputs": [],
   "source": [
    "#Export cleaned dataframe\n",
    "df.to_parquet(\"data/clean/5m/data_clean_1m.parquet\")"
   ]
  },
  {
   "cell_type": "code",
   "execution_count": null,
   "id": "c1d9c051-5fba-4760-b865-1b1a1870ac15",
   "metadata": {},
   "outputs": [],
   "source": []
  }
 ],
 "metadata": {
  "kernelspec": {
   "display_name": "Python 3",
   "language": "python",
   "name": "python3"
  },
  "language_info": {
   "codemirror_mode": {
    "name": "ipython",
    "version": 3
   },
   "file_extension": ".py",
   "mimetype": "text/x-python",
   "name": "python",
   "nbconvert_exporter": "python",
   "pygments_lexer": "ipython3",
   "version": "3.8.12"
  }
 },
 "nbformat": 4,
 "nbformat_minor": 5
}
