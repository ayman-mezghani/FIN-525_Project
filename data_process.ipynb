{
 "cells": [
  {
   "cell_type": "code",
   "execution_count": null,
   "id": "9a8ae34e-7e02-4ee6-9f4c-dc59e710d26e",
   "metadata": {},
   "outputs": [],
   "source": [
    "import pandas as pd\n",
    "import numpy as np"
   ]
  },
  {
   "cell_type": "code",
   "execution_count": null,
   "id": "ffb2d696-6ca5-48c7-9066-3c66a6f5e278",
   "metadata": {},
   "outputs": [],
   "source": [
    "tickers = pd.read_csv('tickers/s&p.csv')"
   ]
  },
  {
   "cell_type": "code",
   "execution_count": null,
   "id": "930188f1-d58e-4e46-a53b-1e7f2c252091",
   "metadata": {},
   "outputs": [],
   "source": [
    "tickers"
   ]
  },
  {
   "cell_type": "code",
   "execution_count": null,
   "id": "f05b390f-a161-4f17-a654-5f21cfee345b",
   "metadata": {},
   "outputs": [],
   "source": [
    "data_path = 'data/1m/'"
   ]
  },
  {
   "cell_type": "code",
   "execution_count": null,
   "id": "23770b25-7041-4c88-856a-d9d624cf2d1a",
   "metadata": {},
   "outputs": [],
   "source": [
    "df = pd.read_parquet(data_path + 'data.parquet')\n",
    "df"
   ]
  },
  {
   "cell_type": "code",
   "execution_count": null,
   "id": "90682415-c8db-4e07-ab7e-aa89dfb421ca",
   "metadata": {},
   "outputs": [],
   "source": [
    "df.columns = df.columns.swaplevel()"
   ]
  },
  {
   "cell_type": "code",
   "execution_count": null,
   "id": "6e2def71-dbfb-450e-ae82-4952f91a2f7f",
   "metadata": {},
   "outputs": [],
   "source": [
    "df"
   ]
  },
  {
   "cell_type": "code",
   "execution_count": null,
   "id": "e1e196d0-090f-4872-b6b2-afd599d5c832",
   "metadata": {},
   "outputs": [],
   "source": [
    "df = df['Close'].copy()\n",
    "df.ffill(inplace=True)"
   ]
  },
  {
   "cell_type": "code",
   "execution_count": null,
   "id": "cfa9db51-3f7d-4346-b70c-262dd0cdd550",
   "metadata": {},
   "outputs": [],
   "source": [
    "df"
   ]
  },
  {
   "cell_type": "code",
   "execution_count": null,
   "id": "fa6ea348-7572-4dda-8fe5-dcb2fd64f3de",
   "metadata": {},
   "outputs": [],
   "source": [
    "df.dropna(how='all', inplace=True)\n",
    "df"
   ]
  },
  {
   "cell_type": "code",
   "execution_count": null,
   "id": "fcc3eadc-1548-4253-87e1-f935fdf5e9df",
   "metadata": {},
   "outputs": [],
   "source": [
    "df.bfill(inplace=True)\n",
    "df"
   ]
  },
  {
   "cell_type": "code",
   "execution_count": null,
   "id": "9f9b3878-75e8-427e-a98e-2ed9aeffabf8",
   "metadata": {},
   "outputs": [],
   "source": [
    "df = np.log(df).diff().dropna(how='all')\n",
    "df"
   ]
  },
  {
   "cell_type": "code",
   "execution_count": null,
   "id": "b0fb47ba-418c-4e3d-a2d0-9f4f349f8ba0",
   "metadata": {},
   "outputs": [],
   "source": []
  }
 ],
 "metadata": {
  "kernelspec": {
   "display_name": "Python 3",
   "language": "python",
   "name": "python3"
  },
  "language_info": {
   "codemirror_mode": {
    "name": "ipython",
    "version": 3
   },
   "file_extension": ".py",
   "mimetype": "text/x-python",
   "name": "python",
   "nbconvert_exporter": "python",
   "pygments_lexer": "ipython3",
   "version": "3.8.12"
  }
 },
 "nbformat": 4,
 "nbformat_minor": 5
}
