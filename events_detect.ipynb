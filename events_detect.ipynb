{
 "cells": [
  {
   "cell_type": "code",
   "execution_count": 2,
   "metadata": {},
   "outputs": [],
   "source": [
    "import pandas as pd\n",
    "import numpy as np\n",
    "\n"
   ]
  },
  {
   "cell_type": "code",
   "execution_count": null,
   "metadata": {},
   "outputs": [],
   "source": [
    "#Create Vci from cluster\n",
    "\n",
    "def liste_liste_vc(liste_cluster):\n",
    "\n",
    "    liste_cluster\n",
    "\n",
    "    liste_liste_vc=[]\n",
    "    for cluster in liste_cluster:\n",
    "\n",
    "        #nb cluster in this iteration\n",
    "        nb_cluster= cluster[\"Cluster\"].unique().max()\n",
    "\n",
    "        #list\n",
    "        liste_vc= []\n",
    "\n",
    "        for i in range(nb_cluster):\n",
    "            liste_vc.append((cluster[\"Cluster\"]==i)*1)\n",
    "\n",
    "        liste_liste_vc.append(liste_vc)\n",
    "    \n",
    "    return(liste_liste_vc)\n",
    "    \n",
    "    "
   ]
  },
  {
   "cell_type": "code",
   "execution_count": null,
   "metadata": {},
   "outputs": [],
   "source": [
    "def K1(liste_vc1,liste_vc2):\n",
    "    \n",
    "    \n",
    "    n=len(liste_vc1)\n",
    "    m=len(liste_vc2)\n",
    "    \n",
    "    K1 = np.zeros((n,m))\n",
    "    \n",
    "    for i in range(n):\n",
    "        for j in range(m):\n",
    "            K1[i,j]=liste_vc1[i]@liste_vc2[j]/ (liste_vc1[i]@liste_vc1[i])\n",
    "            \n",
    "    return(K1)\n",
    "    \n",
    "    \n",
    "def K2(liste_vc1,liste_vc2):\n",
    "    \n",
    "    \n",
    "    n=len(liste_vc1)\n",
    "    m=len(liste_vc2)\n",
    "    \n",
    "    K2 = np.zeros((n,m))\n",
    "    \n",
    "    for i in range(n):\n",
    "        for j in range(m):\n",
    "            K2[i,j]=liste_vc1[i]@liste_vc2[j]/ (liste_vc2[i]@liste_vc2[i])\n",
    "            \n",
    "    return(K2)    \n",
    "    "
   ]
  },
  {
   "cell_type": "code",
   "execution_count": null,
   "metadata": {},
   "outputs": [],
   "source": [
    "def birth(K2):\n",
    "    liste_birth=[]\n",
    "    \n",
    "    for j in range(K2.shape[0]):\n",
    "        if K2[:,j].sum()==0:\n",
    "            liste_birth.append[j]\n",
    "    \n",
    "    return(liste_birth)"
   ]
  },
  {
   "cell_type": "code",
   "execution_count": null,
   "metadata": {},
   "outputs": [],
   "source": [
    "def death(K1):\n",
    "    liste_death=[]\n",
    "    \n",
    "    for i in range(K1.shape[1]):\n",
    "        if K1[i,:].sum()==0:\n",
    "            liste_death.append[i]\n",
    "    \n",
    "    return(liste_death)"
   ]
  },
  {
   "cell_type": "code",
   "execution_count": null,
   "metadata": {},
   "outputs": [],
   "source": [
    "def merge_growth(K1, theta):\n",
    "    \n",
    "    #step 1\n",
    "    K1_prime= (K1<=theta)*K1\n",
    "    \n",
    "    \n",
    "    #step 2\n",
    "    maximum= np.amax(K1_prime,axis=1)\n",
    "    \n",
    "    for line in range(K1_prime.shape()[0]):\n",
    "        K1_prime[i,:]=(K1_prime[i,:]==maximum[line])*maximum[line]\n",
    "    \n",
    "    \n",
    "    #step 3\n",
    "    "
   ]
  },
  {
   "cell_type": "code",
   "execution_count": null,
   "metadata": {},
   "outputs": [],
   "source": []
  },
  {
   "cell_type": "code",
   "execution_count": 13,
   "metadata": {},
   "outputs": [],
   "source": [
    "liste=[True,1]"
   ]
  },
  {
   "cell_type": "code",
   "execution_count": 14,
   "metadata": {},
   "outputs": [
    {
     "data": {
      "text/plain": [
       "[True, 1]"
      ]
     },
     "execution_count": 14,
     "metadata": {},
     "output_type": "execute_result"
    }
   ],
   "source": [
    "liste"
   ]
  },
  {
   "cell_type": "code",
   "execution_count": 67,
   "metadata": {},
   "outputs": [],
   "source": [
    "matrix=[[3,2,3],[5,9,2]]"
   ]
  },
  {
   "cell_type": "code",
   "execution_count": 57,
   "metadata": {},
   "outputs": [
    {
     "data": {
      "text/plain": [
       "3"
      ]
     },
     "execution_count": 57,
     "metadata": {},
     "output_type": "execute_result"
    }
   ],
   "source": [
    "np.amax(matrix,axis=1)[0]"
   ]
  },
  {
   "cell_type": "code",
   "execution_count": 69,
   "metadata": {},
   "outputs": [],
   "source": [
    "matrix = np.zeros((2,3))"
   ]
  },
  {
   "cell_type": "code",
   "execution_count": 45,
   "metadata": {},
   "outputs": [
    {
     "data": {
      "text/plain": [
       "array([0, 1])"
      ]
     },
     "execution_count": 45,
     "metadata": {},
     "output_type": "execute_result"
    }
   ],
   "source": [
    "np.argmax(matrix,axis=1)"
   ]
  },
  {
   "cell_type": "code",
   "execution_count": 54,
   "metadata": {},
   "outputs": [
    {
     "ename": "AttributeError",
     "evalue": "'list' object has no attribute 'shape'",
     "output_type": "error",
     "traceback": [
      "\u001b[0;31m---------------------------------------------------------------------------\u001b[0m",
      "\u001b[0;31mAttributeError\u001b[0m                            Traceback (most recent call last)",
      "\u001b[0;32m<ipython-input-54-9db453e4c47e>\u001b[0m in \u001b[0;36m<module>\u001b[0;34m\u001b[0m\n\u001b[0;32m----> 1\u001b[0;31m \u001b[0mmatrix\u001b[0m\u001b[0;34m.\u001b[0m\u001b[0mshape\u001b[0m\u001b[0;34m\u001b[0m\u001b[0;34m\u001b[0m\u001b[0m\n\u001b[0m",
      "\u001b[0;31mAttributeError\u001b[0m: 'list' object has no attribute 'shape'"
     ]
    }
   ],
   "source": [
    "matrix.shape"
   ]
  },
  {
   "cell_type": "code",
   "execution_count": 70,
   "metadata": {},
   "outputs": [
    {
     "data": {
      "text/plain": [
       "(array([0, 0, 0, 1, 1, 1]), array([0, 1, 2, 0, 1, 2]))"
      ]
     },
     "execution_count": 70,
     "metadata": {},
     "output_type": "execute_result"
    }
   ],
   "source": [
    "np.where(pd.notnull(matrix))"
   ]
  },
  {
   "cell_type": "code",
   "execution_count": 71,
   "metadata": {},
   "outputs": [
    {
     "data": {
      "text/plain": [
       "array([[0., 0., 0.],\n",
       "       [0., 0., 0.]])"
      ]
     },
     "execution_count": 71,
     "metadata": {},
     "output_type": "execute_result"
    }
   ],
   "source": [
    "matrix"
   ]
  }
 ],
 "metadata": {
  "kernelspec": {
   "display_name": "Python 3",
   "language": "python",
   "name": "python3"
  },
  "language_info": {
   "codemirror_mode": {
    "name": "ipython",
    "version": 3
   },
   "file_extension": ".py",
   "mimetype": "text/x-python",
   "name": "python",
   "nbconvert_exporter": "python",
   "pygments_lexer": "ipython3",
   "version": "3.8.5"
  }
 },
 "nbformat": 4,
 "nbformat_minor": 4
}
