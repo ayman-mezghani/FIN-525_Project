{
 "cells": [
  {
   "cell_type": "code",
   "execution_count": 2,
   "metadata": {},
   "outputs": [],
   "source": [
    "import pandas as pd\n",
    "import numpy as np\n",
    "\n"
   ]
  },
  {
   "cell_type": "code",
   "execution_count": null,
   "metadata": {},
   "outputs": [],
   "source": [
    "#Create Vci from cluster\n",
    "\n",
    "def liste_liste_vc(liste_cluster):\n",
    "\n",
    "    liste_cluster\n",
    "\n",
    "    liste_liste_vc=[]\n",
    "    for cluster in liste_cluster:\n",
    "\n",
    "        #nb cluster in this iteration\n",
    "        nb_cluster= cluster[\"Cluster\"].unique().max()\n",
    "\n",
    "        #list\n",
    "        liste_vc= []\n",
    "\n",
    "        for i in range(nb_cluster):\n",
    "            liste_vc.append((cluster[\"Cluster\"]==i)*1)\n",
    "\n",
    "        liste_liste_vc.append(liste_vc)\n",
    "    \n",
    "    return(liste_liste_vc)\n",
    "    \n",
    "    "
   ]
  },
  {
   "cell_type": "code",
   "execution_count": null,
   "metadata": {},
   "outputs": [],
   "source": [
    "def K1(liste_vc1,liste_vc2):\n",
    "    \n",
    "    \n",
    "    n=len(liste_vc1)\n",
    "    m=len(liste_vc2)\n",
    "    \n",
    "    K1 = np.zeros((n,m))\n",
    "    \n",
    "    for i in range(n):\n",
    "        for j in range(m):\n",
    "            K1[i,j]=liste_vc1[i]@liste_vc2[j]/ (liste_vc1[i]@liste_vc1[i])\n",
    "            \n",
    "    return(K1)\n",
    "    \n",
    "    \n",
    "def K2(liste_vc1,liste_vc2):\n",
    "    \n",
    "    \n",
    "    n=len(liste_vc1)\n",
    "    m=len(liste_vc2)\n",
    "    \n",
    "    K2 = np.zeros((n,m))\n",
    "    \n",
    "    for i in range(n):\n",
    "        for j in range(m):\n",
    "            K2[i,j]=liste_vc1[i]@liste_vc2[j]/ (liste_vc2[i]@liste_vc2[i])\n",
    "            \n",
    "    return(K2)    \n",
    "    "
   ]
  },
  {
   "cell_type": "code",
   "execution_count": null,
   "metadata": {},
   "outputs": [],
   "source": [
    "def birth(K2):\n",
    "    liste_birth=[]\n",
    "    \n",
    "    for j in range(K2.shape[0]):\n",
    "        if K2[:,j].sum()==0:\n",
    "            liste_birth.append[j]\n",
    "    \n",
    "    return(liste_birth)"
   ]
  },
  {
   "cell_type": "code",
   "execution_count": null,
   "metadata": {},
   "outputs": [],
   "source": [
    "def death(K1):\n",
    "    liste_death=[]\n",
    "    \n",
    "    for i in range(K1.shape[1]):\n",
    "        if K1[i,:].sum()==0:\n",
    "            liste_death.append[i]\n",
    "    \n",
    "    return(liste_death)"
   ]
  },
  {
   "cell_type": "code",
   "execution_count": null,
   "metadata": {},
   "outputs": [],
   "source": [
    "def merge_growth(K1, theta):\n",
    "    \n",
    "    #step 1\n",
    "    K1_prime= (K1<=theta)*K1\n",
    "    \n",
    "    \n",
    "    \n",
    "    \n",
    "    \n",
    "    "
   ]
  },
  {
   "cell_type": "code",
   "execution_count": null,
   "metadata": {},
   "outputs": [],
   "source": []
  },
  {
   "cell_type": "code",
   "execution_count": 13,
   "metadata": {},
   "outputs": [],
   "source": [
    "liste=[True,1]"
   ]
  },
  {
   "cell_type": "code",
   "execution_count": 14,
   "metadata": {},
   "outputs": [
    {
     "data": {
      "text/plain": [
       "[True, 1]"
      ]
     },
     "execution_count": 14,
     "metadata": {},
     "output_type": "execute_result"
    }
   ],
   "source": [
    "liste"
   ]
  },
  {
   "cell_type": "code",
   "execution_count": 27,
   "metadata": {},
   "outputs": [],
   "source": [
    "matrix=[[1,2],[3,4]]"
   ]
  },
  {
   "cell_type": "code",
   "execution_count": 30,
   "metadata": {},
   "outputs": [
    {
     "data": {
      "text/plain": [
       "array([3, 4])"
      ]
     },
     "execution_count": 30,
     "metadata": {},
     "output_type": "execute_result"
    }
   ],
   "source": [
    "np.amax(matrix,axis=0)"
   ]
  },
  {
   "cell_type": "code",
   "execution_count": 29,
   "metadata": {},
   "outputs": [
    {
     "data": {
      "text/plain": [
       "[[1, 2], [3, 4]]"
      ]
     },
     "execution_count": 29,
     "metadata": {},
     "output_type": "execute_result"
    }
   ],
   "source": [
    "matrix"
   ]
  },
  {
   "cell_type": "code",
   "execution_count": null,
   "metadata": {},
   "outputs": [],
   "source": []
  },
  {
   "cell_type": "code",
   "execution_count": null,
   "metadata": {},
   "outputs": [],
   "source": []
  },
  {
   "cell_type": "code",
   "execution_count": null,
   "metadata": {},
   "outputs": [],
   "source": []
  }
 ],
 "metadata": {
  "kernelspec": {
   "display_name": "Python 3",
   "language": "python",
   "name": "python3"
  },
  "language_info": {
   "codemirror_mode": {
    "name": "ipython",
    "version": 3
   },
   "file_extension": ".py",
   "mimetype": "text/x-python",
   "name": "python",
   "nbconvert_exporter": "python",
   "pygments_lexer": "ipython3",
   "version": "3.8.5"
  }
 },
 "nbformat": 4,
 "nbformat_minor": 4
}
