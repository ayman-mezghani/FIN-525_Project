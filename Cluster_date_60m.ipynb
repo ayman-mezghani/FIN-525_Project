{
 "cells": [
  {
   "cell_type": "code",
   "execution_count": null,
   "metadata": {},
   "outputs": [],
   "source": [
    "from clustering import *\n",
    "from utils import *"
   ]
  },
  {
   "cell_type": "code",
   "execution_count": null,
   "metadata": {
    "collapsed": false,
    "jupyter": {
     "outputs_hidden": false
    },
    "pycharm": {
     "name": "#%%\n"
    }
   },
   "outputs": [],
   "source": [
    "#df of log returns\n",
    "df_60m = pd.read_parquet(\"data/clean/60m/data_clean_60m_log_ret.parquet\")"
   ]
  },
  {
   "cell_type": "code",
   "execution_count": null,
   "metadata": {},
   "outputs": [],
   "source": [
    "#Rolling clustering for 5m dataset\n",
    "#Cluster days\n",
    "#Compute T=N/3\n",
    "N = df_60m.shape[1]\n",
    "T = N // 3\n",
    "\n",
    "#Number of windows possible\n",
    "lag_max = df_60m.shape[0] - T\n",
    "liste = RolledCluster(df_60m, T, \"louvain_cluster/date/60m\", True, False, lag_max)"
   ]
  },
  {
   "cell_type": "code",
   "execution_count": null,
   "metadata": {},
   "outputs": [],
   "source": [
    "liste_cluster = dask.compute(dask.compute(liste))[0][0]\n",
    "#liste_cluster"
   ]
  },
  {
   "cell_type": "code",
   "execution_count": null,
   "metadata": {},
   "outputs": [],
   "source": [
    "number_of_clusters = []\n",
    "for element in liste_cluster:\n",
    "    number_of_clusters.append(len(element[\"Cluster\"].unique()))"
   ]
  },
  {
   "cell_type": "code",
   "execution_count": null,
   "metadata": {},
   "outputs": [],
   "source": [
    "df_n_clusters = pd.DataFrame(number_of_clusters, columns=['Clusters'])\n",
    "df_n_clusters[\"Datetime\"] = df_60m[-len(df_n_clusters):].index"
   ]
  },
  {
   "cell_type": "code",
   "execution_count": null,
   "metadata": {},
   "outputs": [],
   "source": [
    "df_n_clusters"
   ]
  },
  {
   "cell_type": "code",
   "execution_count": null,
   "metadata": {},
   "outputs": [],
   "source": [
    "plot(df_n_clusters, x=\"Datetime\", y=\"Clusters\", title='Number of clusters per period', save_name='Plot_number_clusters_days_60m')"
   ]
  },
  {
   "cell_type": "code",
   "execution_count": null,
   "metadata": {},
   "outputs": [],
   "source": [
    "df_n_clusters[\"ARI\"] = [1] + RolledARI(liste_cluster)"
   ]
  },
  {
   "cell_type": "code",
   "execution_count": null,
   "metadata": {},
   "outputs": [],
   "source": [
    "plot(df_n_clusters, x=\"Datetime\", y=\"ARI\", title='ARI measure with respect to time', save_name='Plot_ARI_days_60m')"
   ]
  },
  {
   "cell_type": "code",
   "execution_count": null,
   "metadata": {},
   "outputs": [],
   "source": [
    "liste_cluster[-1].value_counts()"
   ]
  },
  {
   "cell_type": "code",
   "execution_count": null,
   "metadata": {},
   "outputs": [],
   "source": [
    "dfj = df_60m.join(liste_cluster[-1], how='inner')"
   ]
  },
  {
   "cell_type": "code",
   "execution_count": null,
   "metadata": {},
   "outputs": [],
   "source": [
    "dfj"
   ]
  },
  {
   "cell_type": "code",
   "execution_count": null,
   "metadata": {},
   "outputs": [],
   "source": [
    "dfj = dfj.groupby(by='Cluster').mean().T"
   ]
  },
  {
   "cell_type": "code",
   "execution_count": null,
   "metadata": {},
   "outputs": [],
   "source": [
    "asset_details = pd.read_csv('tickers/s&p.csv', index_col=0)\n",
    "asset_details"
   ]
  },
  {
   "cell_type": "code",
   "execution_count": null,
   "metadata": {},
   "outputs": [],
   "source": [
    "dfj = dfj.join(asset_details[['Sector']], how='inner')\n",
    "dfj"
   ]
  },
  {
   "cell_type": "code",
   "execution_count": null,
   "metadata": {},
   "outputs": [],
   "source": [
    "plot_scatter(df=dfj, x=0, y=1, hue='Sector', title='Average log returns per asset per cluster (60m data)')"
   ]
  },
  {
   "cell_type": "code",
   "execution_count": null,
   "metadata": {},
   "outputs": [],
   "source": []
  }
 ],
 "metadata": {
  "kernelspec": {
   "display_name": "Python 3",
   "language": "python",
   "name": "python3"
  },
  "language_info": {
   "codemirror_mode": {
    "name": "ipython",
    "version": 3
   },
   "file_extension": ".py",
   "mimetype": "text/x-python",
   "name": "python",
   "nbconvert_exporter": "python",
   "pygments_lexer": "ipython3",
   "version": "3.8.12"
  }
 },
 "nbformat": 4,
 "nbformat_minor": 4
}
