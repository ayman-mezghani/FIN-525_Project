{
 "cells": [
  {
   "cell_type": "code",
   "execution_count": 1,
   "metadata": {},
   "outputs": [],
   "source": [
    "from clustering import *\n",
    "from utils import plot"
   ]
  },
  {
   "cell_type": "code",
   "execution_count": null,
   "outputs": [],
   "source": [
    "#df of log returns\n",
    "df_5m = pd.read_parquet(\"data/clean/5m/data_clean_5m_log_ret.parquet\")"
   ],
   "metadata": {
    "collapsed": false,
    "pycharm": {
     "name": "#%%\n"
    }
   }
  },
  {
   "cell_type": "code",
   "execution_count": 2,
   "metadata": {},
   "outputs": [],
   "source": [
    "#Rolling clustering for 5m dataset\n",
    "#Compute T=3*N\n",
    "N = df_5m.shape[1]\n",
    "T = N // 3\n",
    "\n",
    "#Number of windows possible\n",
    "lag_max = df_5m.shape[0] - T\n",
    "liste = RolledCluster(df_5m, T, \"louvain_cluster/date/5m\", True, False, lag_max)"
   ]
  },
  {
   "cell_type": "code",
   "execution_count": 3,
   "metadata": {},
   "outputs": [],
   "source": [
    "liste_cluster = dask.compute(dask.compute(liste))[0][0]\n",
    "#liste_cluster"
   ]
  },
  {
   "cell_type": "code",
   "execution_count": 4,
   "metadata": {},
   "outputs": [],
   "source": [
    "number_of_clusters = []\n",
    "for element in liste_cluster:\n",
    "    number_of_clusters.append(len(element[\"Cluster\"].unique()))"
   ]
  },
  {
   "cell_type": "code",
   "execution_count": 5,
   "metadata": {},
   "outputs": [],
   "source": [
    "df_n_clusters = pd.DataFrame(number_of_clusters, columns=['Clusters'])\n",
    "df_n_clusters[\"Datetime\"] = df_5m[-len(df_n_clusters):].index"
   ]
  },
  {
   "cell_type": "code",
   "execution_count": 6,
   "metadata": {},
   "outputs": [
    {
     "data": {
      "text/html": [
       "<div>\n",
       "<style scoped>\n",
       "    .dataframe tbody tr th:only-of-type {\n",
       "        vertical-align: middle;\n",
       "    }\n",
       "\n",
       "    .dataframe tbody tr th {\n",
       "        vertical-align: top;\n",
       "    }\n",
       "\n",
       "    .dataframe thead th {\n",
       "        text-align: right;\n",
       "    }\n",
       "</style>\n",
       "<table border=\"1\" class=\"dataframe\">\n",
       "  <thead>\n",
       "    <tr style=\"text-align: right;\">\n",
       "      <th></th>\n",
       "      <th>Clusters</th>\n",
       "      <th>Datetime</th>\n",
       "    </tr>\n",
       "  </thead>\n",
       "  <tbody>\n",
       "    <tr>\n",
       "      <th>0</th>\n",
       "      <td>3</td>\n",
       "      <td>2021-11-12 10:35:00-05:00</td>\n",
       "    </tr>\n",
       "    <tr>\n",
       "      <th>1</th>\n",
       "      <td>5</td>\n",
       "      <td>2021-11-12 10:40:00-05:00</td>\n",
       "    </tr>\n",
       "    <tr>\n",
       "      <th>2</th>\n",
       "      <td>4</td>\n",
       "      <td>2021-11-12 10:45:00-05:00</td>\n",
       "    </tr>\n",
       "    <tr>\n",
       "      <th>3</th>\n",
       "      <td>5</td>\n",
       "      <td>2021-11-12 10:50:00-05:00</td>\n",
       "    </tr>\n",
       "    <tr>\n",
       "      <th>4</th>\n",
       "      <td>4</td>\n",
       "      <td>2021-11-12 10:55:00-05:00</td>\n",
       "    </tr>\n",
       "    <tr>\n",
       "      <th>...</th>\n",
       "      <td>...</td>\n",
       "      <td>...</td>\n",
       "    </tr>\n",
       "    <tr>\n",
       "      <th>3347</th>\n",
       "      <td>4</td>\n",
       "      <td>2022-01-21 15:35:00-05:00</td>\n",
       "    </tr>\n",
       "    <tr>\n",
       "      <th>3348</th>\n",
       "      <td>4</td>\n",
       "      <td>2022-01-21 15:40:00-05:00</td>\n",
       "    </tr>\n",
       "    <tr>\n",
       "      <th>3349</th>\n",
       "      <td>3</td>\n",
       "      <td>2022-01-21 15:45:00-05:00</td>\n",
       "    </tr>\n",
       "    <tr>\n",
       "      <th>3350</th>\n",
       "      <td>4</td>\n",
       "      <td>2022-01-21 15:50:00-05:00</td>\n",
       "    </tr>\n",
       "    <tr>\n",
       "      <th>3351</th>\n",
       "      <td>3</td>\n",
       "      <td>2022-01-21 15:55:00-05:00</td>\n",
       "    </tr>\n",
       "  </tbody>\n",
       "</table>\n",
       "<p>3352 rows × 2 columns</p>\n",
       "</div>"
      ],
      "text/plain": [
       "      Clusters                  Datetime\n",
       "0            3 2021-11-12 10:35:00-05:00\n",
       "1            5 2021-11-12 10:40:00-05:00\n",
       "2            4 2021-11-12 10:45:00-05:00\n",
       "3            5 2021-11-12 10:50:00-05:00\n",
       "4            4 2021-11-12 10:55:00-05:00\n",
       "...        ...                       ...\n",
       "3347         4 2022-01-21 15:35:00-05:00\n",
       "3348         4 2022-01-21 15:40:00-05:00\n",
       "3349         3 2022-01-21 15:45:00-05:00\n",
       "3350         4 2022-01-21 15:50:00-05:00\n",
       "3351         3 2022-01-21 15:55:00-05:00\n",
       "\n",
       "[3352 rows x 2 columns]"
      ]
     },
     "execution_count": 6,
     "metadata": {},
     "output_type": "execute_result"
    }
   ],
   "source": [
    "df_n_clusters"
   ]
  },
  {
   "cell_type": "code",
   "execution_count": 7,
   "metadata": {},
   "outputs": [
    {
     "data": {
      "image/png": "[encoded data removed]",
      "text/plain": [
       "<Figure size 432x288 with 1 Axes>"
      ]
     },
     "metadata": {
      "needs_background": "light"
     },
     "output_type": "display_data"
    }
   ],
   "source": [
    "plot(df_n_clusters, x=\"Datetime\", y=\"Clusters\", title='Number of clusters per period')"
   ]
  },
  {
   "cell_type": "code",
   "execution_count": 8,
   "metadata": {},
   "outputs": [
    {
     "name": "stderr",
     "output_type": "stream",
     "text": [
      "100%|██████████| 3351/3351 [00:09<00:00, 345.58it/s]\n"
     ]
    }
   ],
   "source": [
    "df_n_clusters[\"ARI\"] = [1] + RolledARI(liste_cluster)"
   ]
  },
  {
   "cell_type": "code",
   "execution_count": 9,
   "metadata": {
    "pycharm": {
     "name": "#%%\n"
    }
   },
   "outputs": [
    {
     "data": {
      "image/png": "[encoded data removed]",
      "text/plain": [
       "<Figure size 432x288 with 1 Axes>"
      ]
     },
     "metadata": {
      "needs_background": "light"
     },
     "output_type": "display_data"
    }
   ],
   "source": [
    "plot(df_n_clusters, x=\"Datetime\", y=\"ARI\", title='ARI measure with respect to time')"
   ]
  }
 ],
 "metadata": {
  "kernelspec": {
   "display_name": "Python 3",
   "language": "python",
   "name": "python3"
  },
  "language_info": {
   "codemirror_mode": {
    "name": "ipython",
    "version": 3
   },
   "file_extension": ".py",
   "mimetype": "text/x-python",
   "name": "python",
   "nbconvert_exporter": "python",
   "pygments_lexer": "ipython3",
   "version": "3.8.12"
  }
 },
 "nbformat": 4,
 "nbformat_minor": 4
}