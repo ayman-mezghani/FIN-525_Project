{
 "cells": [
  {
   "cell_type": "code",
   "execution_count": null,
   "id": "77358225-2c8f-4eb8-91a6-24e26554446c",
   "metadata": {},
   "outputs": [],
   "source": [
    "import yfinance as yf\n",
    "import pandas as pd\n",
    "from datetime import datetime, timedelta\n",
    "import os"
   ]
  },
  {
   "cell_type": "code",
   "execution_count": null,
   "id": "5955fd5b-5708-4064-9cfd-13d9d745bc59",
   "metadata": {},
   "outputs": [],
   "source": [
    "tickers_df = pd.read_csv('tickers/s&p.csv')"
   ]
  },
  {
   "cell_type": "code",
   "execution_count": null,
   "id": "873488d1-8bee-4a7f-9646-ac920c8106ff",
   "metadata": {},
   "outputs": [],
   "source": [
    "tickers = tickers_df['Symbol'].values.tolist()"
   ]
  },
  {
   "cell_type": "code",
   "execution_count": null,
   "id": "b7b46101-b436-49db-9483-04e4c65a06eb",
   "metadata": {},
   "outputs": [],
   "source": [
    "date = datetime.now()\n",
    "delta = timedelta(days=1)"
   ]
  },
  {
   "cell_type": "code",
   "execution_count": null,
   "id": "9cfe7e91-c5ef-4c3b-b30c-9fc879f50653",
   "metadata": {},
   "outputs": [],
   "source": [
    "date"
   ]
  },
  {
   "cell_type": "code",
   "execution_count": null,
   "id": "c6678ee1-d668-4a39-8dbe-762f2cdd02c1",
   "metadata": {},
   "outputs": [],
   "source": [
    "# valid intervals: 1m,2m,5m,15m,30m,60m,90m,1h,1d,5d,1wk,1mo,3mo\n",
    "interval = '60m'\n",
    "max_period = timedelta(days=61)"
   ]
  },
  {
   "cell_type": "code",
   "execution_count": null,
   "id": "9d3f2dcf-8bae-4ef3-8046-c407f06a210c",
   "metadata": {},
   "outputs": [],
   "source": [
    "data = pd.DataFrame()\n",
    "\n",
    "while date >= (datetime.now() - max_period):\n",
    "    start_date = date - delta\n",
    "    new_data = yf.download(  # or pdr.get_data_yahoo(...\n",
    "        # tickers list or string as well\n",
    "        tickers = \" \".join(tickers),\n",
    "        \n",
    "        # use \"period\" instead of start/end\n",
    "        # valid periods: 1d,5d,1mo,3mo,6mo,1y,2y,5y,10y,ytd,max\n",
    "        # (optional, default is '1mo')\n",
    "        #period = \"5y\",\n",
    "        start = start_date.date(),\n",
    "        end = date.date(),\n",
    "\n",
    "        # fetch data by interval (including intraday if period < 60 days)\n",
    "        # valid intervals: 1m,2m,5m,15m,30m,60m,90m,1h,1d,5d,1wk,1mo,3mo\n",
    "        # (optional, default is '1d')\n",
    "        interval = interval,\n",
    "\n",
    "        # group by ticker (to access via data['SPY'])\n",
    "        # (optional, default is 'column')\n",
    "        group_by = 'ticker',\n",
    "\n",
    "        # adjust all OHLC automatically\n",
    "        # (optional, default is False)\n",
    "        auto_adjust = True,\n",
    "\n",
    "        # download pre/post regular market hours data\n",
    "        # (optional, default is False)\n",
    "        #prepost = True,\n",
    "\n",
    "        # use threads for mass downloading? (True/False/Integer)\n",
    "        # (optional, default is True)\n",
    "        threads = True,\n",
    "\n",
    "        # proxy URL scheme use use when downloading?\n",
    "        # (optional, default is None)\n",
    "        proxy = None\n",
    "    )\n",
    "    data = data.append(new_data)\n",
    "    date = start_date"
   ]
  },
  {
   "cell_type": "code",
   "execution_count": null,
   "id": "424d2ef0-75f8-48f6-98ce-34e99e7340bd",
   "metadata": {},
   "outputs": [],
   "source": [
    "data = data.sort_index()"
   ]
  },
  {
   "cell_type": "code",
   "execution_count": null,
   "id": "422fcd09-7c2a-455e-949f-9dec8fae38b0",
   "metadata": {},
   "outputs": [],
   "source": [
    "data"
   ]
  },
  {
   "cell_type": "code",
   "execution_count": null,
   "id": "1cef5372-f42b-42ac-9a03-efcacd9bd8e0",
   "metadata": {},
   "outputs": [],
   "source": []
  },
  {
   "cell_type": "code",
   "execution_count": null,
   "id": "52c4f379-bc11-45a1-8723-e6ab85bd800c",
   "metadata": {},
   "outputs": [],
   "source": [
    "data.groupby(by=data.index.date).agg('count')"
   ]
  },
  {
   "cell_type": "code",
   "execution_count": null,
   "id": "a696d3f2-4ddd-4345-9f73-dc3fe6a0c6de",
   "metadata": {},
   "outputs": [],
   "source": [
    "path = f'data/{interval}'\n",
    "os.mkdir(path)"
   ]
  },
  {
   "cell_type": "code",
   "execution_count": null,
   "id": "09dfca72-abd2-4476-87b5-35f3ea5b2ac5",
   "metadata": {},
   "outputs": [],
   "source": [
    "data.sort_index().to_parquet(f'{path}/data.parquet')"
   ]
  },
  {
   "cell_type": "code",
   "execution_count": null,
   "id": "e5d2b243-d1dc-4efa-955e-195f4e507be1",
   "metadata": {},
   "outputs": [],
   "source": []
  },
  {
   "cell_type": "code",
   "execution_count": null,
   "id": "215b3f7f-4ebc-4158-9750-5c5be6a29e38",
   "metadata": {},
   "outputs": [],
   "source": []
  },
  {
   "cell_type": "code",
   "execution_count": null,
   "id": "0a86029a-adde-4e5a-b454-527ed64fa11a",
   "metadata": {},
   "outputs": [],
   "source": []
  },
  {
   "cell_type": "code",
   "execution_count": null,
   "id": "5b074d4c-1a97-452d-b61a-b944bb0a286e",
   "metadata": {},
   "outputs": [],
   "source": []
  },
  {
   "cell_type": "code",
   "execution_count": null,
   "id": "dac5f954-1fc6-4ee8-a3d8-dbfd9c03f064",
   "metadata": {},
   "outputs": [],
   "source": []
  },
  {
   "cell_type": "code",
   "execution_count": null,
   "id": "6108861d-a711-455b-a0a3-e95383bf5183",
   "metadata": {},
   "outputs": [],
   "source": [
    "new_data = yf.download(  # or pdr.get_data_yahoo(...\n",
    "    # tickers list or string as well\n",
    "    #tickers = \" \".join(tickers),\n",
    "    tickers = '^GSPC',\n",
    "\n",
    "    # use \"period\" instead of start/end\n",
    "    # valid periods: 1d,5d,1mo,3mo,6mo,1y,2y,5y,10y,ytd,max\n",
    "    # (optional, default is '1mo')\n",
    "    #period = \"5y\",\n",
    "    start = datetime.now() - timedelta(days=730),\n",
    "    end = datetime.now(),\n",
    "\n",
    "    # fetch data by interval (including intraday if period < 60 days)\n",
    "    # valid intervals: 1m,2m,5m,15m,30m,60m,90m,1h,1d,5d,1wk,1mo,3mo\n",
    "    # (optional, default is '1d')\n",
    "    interval = '60m',\n",
    "\n",
    "    # group by ticker (to access via data['SPY'])\n",
    "    # (optional, default is 'column')\n",
    "    group_by = 'ticker',\n",
    "\n",
    "    # adjust all OHLC automatically\n",
    "    # (optional, default is False)\n",
    "    auto_adjust = True,\n",
    "\n",
    "    # download pre/post regular market hours data\n",
    "    # (optional, default is False)\n",
    "    #prepost = True,\n",
    "\n",
    "    # use threads for mass downloading? (True/False/Integer)\n",
    "    # (optional, default is True)\n",
    "    threads = True,\n",
    "\n",
    "    # proxy URL scheme use use when downloading?\n",
    "    # (optional, default is None)\n",
    "    proxy = None\n",
    ")\n",
    "new_data"
   ]
  },
  {
   "cell_type": "code",
   "execution_count": null,
   "id": "1b6b9f3c-baee-4629-b51d-d2eca224ba02",
   "metadata": {},
   "outputs": [],
   "source": [
    "new_data.to_parquet('data/GSPC.parquet')"
   ]
  },
  {
   "cell_type": "code",
   "execution_count": null,
   "id": "5f0feb9c-825d-402d-bfcb-81e7f11ce815",
   "metadata": {},
   "outputs": [],
   "source": []
  }
 ],
 "metadata": {
  "kernelspec": {
   "display_name": "Python 3",
   "language": "python",
   "name": "python3"
  },
  "language_info": {
   "codemirror_mode": {
    "name": "ipython",
    "version": 3
   },
   "file_extension": ".py",
   "mimetype": "text/x-python",
   "name": "python",
   "nbconvert_exporter": "python",
   "pygments_lexer": "ipython3",
   "version": "3.8.12"
  }
 },
 "nbformat": 4,
 "nbformat_minor": 5
}
