{
 "cells": [
  {
   "cell_type": "code",
   "execution_count": 1,
   "metadata": {},
   "outputs": [],
   "source": [
    "#!pip install nbimporter\n",
    "import nbimporter\n",
    "import pandas as pd\n",
    "import pyarrow.parquet as pq\n",
    "import numpy as np\n",
    "import matplotlib.pyplot as plt\n",
    "import seaborn as sns\n",
    "from random import sample\n",
    "\n",
    "\n",
    "%run Fonctions_projet.ipynb\n",
    "\n",
    "#Download data\n",
    "\n",
    "#maybe better to export data from introduction before\n",
    "\n",
    "#df of log returns\n",
    "df_60m=pd.read_parquet(\"data/clean/60m/data_clean_60m_log_ret.parquet\")\n",
    "\n"
   ]
  },
  {
   "cell_type": "code",
   "execution_count": null,
   "metadata": {},
   "outputs": [],
   "source": [
    "#Rolling clustering for 5m dataset\n",
    "\n",
    "\n",
    "#Cluster tickers\n",
    "\n",
    "#Compute T=3*N\n",
    "N=df_60m.shape[1]\n",
    "T=3*N\n",
    "\n",
    "#Number of windows possible\n",
    "lag_max=df_60m.shape[0]-T\n",
    "liste=RolledCluster(df_60m,T,\"/Users/mrobaux/Documents/GitHub/FIN-525_Project/louvain_cluster/asset\",False,False,lag_max)"
   ]
  },
  {
   "cell_type": "code",
   "execution_count": null,
   "metadata": {},
   "outputs": [],
   "source": [
    "liste_cluster=dask.compute(dask.compute(liste))[0][0]"
   ]
  },
  {
   "cell_type": "code",
   "execution_count": null,
   "metadata": {},
   "outputs": [],
   "source": [
    "number_of_clusters=[]\n",
    "for element in liste_cluster:\n",
    "    number_of_clusters.append(element[\"Cluster\"].unique().max()+1)"
   ]
  },
  {
   "cell_type": "code",
   "execution_count": null,
   "metadata": {},
   "outputs": [],
   "source": [
    "sns.set()\n",
    "sns.relplot(data=number_of_clusters,kind=\"line\")"
   ]
  },
  {
   "cell_type": "code",
   "execution_count": null,
   "metadata": {},
   "outputs": [],
   "source": [
    "ARI= RolledARI(liste_cluster)\n",
    "sns.set()\n",
    "sns.relplot(data=ARI, kind=\"line\")\n",
    "np.mean(ARI)"
   ]
  },
  {
   "cell_type": "code",
   "execution_count": null,
   "metadata": {},
   "outputs": [],
   "source": [
    "for i in range(0,len(liste_cluster)-1):\n",
    "    if len(liste_cluster[i].value_counts())==len(liste_cluster[i+1].value_counts()):\n",
    "        liste_cluster[i+1]=keep_cluster_number(liste_cluster[i],liste_cluster[i+1])"
   ]
  },
  {
   "cell_type": "code",
   "execution_count": null,
   "metadata": {},
   "outputs": [],
   "source": []
  }
 ],
 "metadata": {
  "kernelspec": {
   "display_name": "Python 3",
   "language": "python",
   "name": "python3"
  },
  "language_info": {
   "codemirror_mode": {
    "name": "ipython",
    "version": 3
   },
   "file_extension": ".py",
   "mimetype": "text/x-python",
   "name": "python",
   "nbconvert_exporter": "python",
   "pygments_lexer": "ipython3",
   "version": "3.8.5"
  }
 },
 "nbformat": 4,
 "nbformat_minor": 4
}
