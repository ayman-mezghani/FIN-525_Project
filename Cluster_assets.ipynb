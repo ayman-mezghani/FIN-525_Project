{
 "cells": [
  {
   "cell_type": "code",
   "execution_count": null,
   "metadata": {},
   "outputs": [],
   "source": [
    "import seaborn as sns\n",
    "from tqdm import tqdm\n",
    "\n",
    "import matplotlib.pyplot as plt\n",
    "from clustering import *\n",
    "from utils import plot"
   ]
  },
  {
   "cell_type": "code",
   "execution_count": null,
   "metadata": {
    "pycharm": {
     "name": "#%%\n"
    }
   },
   "outputs": [],
   "source": [
    "#df of log returns\n",
    "df_60m = pd.read_parquet(\"data/clean/60m/data_clean_60m_log_ret.parquet\")"
   ]
  },
  {
   "cell_type": "code",
   "execution_count": null,
   "metadata": {},
   "outputs": [],
   "source": [
    "df_60m"
   ]
  },
  {
   "cell_type": "code",
   "execution_count": null,
   "metadata": {},
   "outputs": [],
   "source": [
    "#Download tickers\n",
    "tickers = pd.read_csv('tickers/s&p.csv')\n",
    "tickers.sort_values(by=\"Symbol\", inplace=True)\n",
    "tickers.reset_index(drop=True, inplace=True)\n",
    "\n",
    "#Keep only tickers in df_60m\n",
    "tickers = tickers.iloc[np.where(tickers[\"Symbol\"].isin(df_60m.columns))]\n",
    "tickers.reset_index(drop=True, inplace=True)\n",
    "tickers"
   ]
  },
  {
   "cell_type": "code",
   "execution_count": null,
   "metadata": {},
   "outputs": [],
   "source": [
    "#Order df_60m by ticker name\n",
    "df_60m = df_60m[tickers[\"Symbol\"]]"
   ]
  },
  {
   "cell_type": "code",
   "execution_count": null,
   "metadata": {},
   "outputs": [],
   "source": [
    "#Rolling clustering for 60m dataset\n",
    "#Cluster tickers\n",
    "\n",
    "#Compute T=3*N\n",
    "N = df_60m.shape[1]\n",
    "T = 3 * N\n",
    "\n",
    "#Number of windows possible\n",
    "lag_max = df_60m.shape[0] - T\n",
    "liste = RolledCluster(df_60m, T, \"louvain_cluster/asset\", False, False, lag_max)"
   ]
  },
  {
   "cell_type": "code",
   "execution_count": null,
   "metadata": {},
   "outputs": [],
   "source": [
    "liste_cluster = dask.compute(dask.compute(liste))[0][0]\n",
    "#liste_cluster"
   ]
  },
  {
   "cell_type": "code",
   "execution_count": null,
   "metadata": {},
   "outputs": [],
   "source": [
    "number_of_clusters = []\n",
    "for element in tqdm(liste_cluster):\n",
    "    number_of_clusters.append(element[\"Cluster\"].unique().max() + 1)\n",
    "\n",
    "#Create dataframe for plotting reasons\n",
    "df_plot_clusters = pd.DataFrame(number_of_clusters)\n",
    "df_plot_clusters[\"Datetime\"] = df_60m[df_60m.index > \"2020-12-04 11:30:00-05:00\"].index\n",
    "df_plot_clusters.rename(columns={0: \"Clusters\", \"Datetime\": \"Datetime\"}, inplace=True)\n",
    "df_plot_clusters"
   ]
  },
  {
   "cell_type": "code",
   "execution_count": null,
   "metadata": {},
   "outputs": [],
   "source": [
    "plot(df_plot_clusters, x=\"Datetime\", y=\"Clusters\", hue=None, title='Number of clusters per period', x_label=None,\n",
    "     y_label=None, save_name=\"Plot_number_clusters_assets\")"
   ]
  },
  {
   "cell_type": "code",
   "execution_count": null,
   "metadata": {},
   "outputs": [],
   "source": [
    "#Get position of drop\n",
    "cut = 0\n",
    "while number_of_clusters[cut] > 10:\n",
    "    cut = cut + 1\n",
    "\n",
    "#This gives time from which we have a reasonable amount of clusters\n",
    "df_60m.index[cut+T]"
   ]
  },
  {
   "cell_type": "code",
   "execution_count": null,
   "metadata": {},
   "outputs": [],
   "source": [
    "plot(df_plot_clusters[cut:], x=\"Datetime\", y=\"Clusters\", hue=None, title='Number of clusters per period',\n",
    "     x_label=None, y_label=None, save_name=None)"
   ]
  },
  {
   "cell_type": "code",
   "execution_count": null,
   "metadata": {},
   "outputs": [],
   "source": [
    "#Add column for ARI measure\n",
    "ARI = RolledARI(liste_cluster)\n",
    "\n",
    "#Insert a value for ARI at time 0 for plotting\n",
    "ARI.insert(0, 1)\n",
    "df_plot_clusters[\"ARI\"] = ARI\n",
    "\n",
    "df_plot_clusters"
   ]
  },
  {
   "cell_type": "code",
   "execution_count": null,
   "metadata": {},
   "outputs": [],
   "source": [
    "plot(df_plot_clusters, x=\"Datetime\", y=\"ARI\", hue=None, title='ARI measure with respect to time', x_label=None,\n",
    "     y_label=None, save_name=\"Plot_ARI_assets\")"
   ]
  },
  {
   "cell_type": "code",
   "execution_count": null,
   "metadata": {},
   "outputs": [],
   "source": [
    "#Relabeled clusters but only from cut moment\n",
    "new_liste = liste_cluster[cut:]\n",
    "\n",
    "#Define a new list of clusters relabeled\n",
    "relabeled = map_clusters(new_liste)"
   ]
  },
  {
   "cell_type": "code",
   "execution_count": null,
   "metadata": {},
   "outputs": [],
   "source": [
    "#relabeled"
   ]
  },
  {
   "cell_type": "code",
   "execution_count": null,
   "metadata": {},
   "outputs": [],
   "source": [
    "#create dataframe of composition of clusters of size k\n",
    "def composition_matrix(tickers, liste_cluster, axis=0, threshold=1):\n",
    "    \n",
    "    #Group tickers by sector\n",
    "    grouped_tickers_sector = tickers.groupby(\"Sector\")\n",
    "    \n",
    "    #Get number of rows to be the maximum number a cluster have\n",
    "    liste_max = []\n",
    "    for element in liste_cluster:\n",
    "        liste_max.append(element[\"Cluster\"].max())\n",
    "    \n",
    "    nb_clusters_all = max(liste_max)+1\n",
    "    \n",
    "    \n",
    "    #Create dataframe\n",
    "    df = pd.DataFrame(np.zeros((nb_clusters_all, len(tickers[\"Sector\"].unique()))), index=range(nb_clusters_all),\n",
    "                      columns=tickers[\"Sector\"].unique())\n",
    "\n",
    "    #loop over each cluster\n",
    "    for cluster in tqdm(liste_cluster):\n",
    "        \n",
    "        #Get the number value of clusters\n",
    "        value_cluster = cluster[\"Cluster\"].unique()\n",
    "        \n",
    "        #Group tickers by cluster belonging\n",
    "        grouped_cluster = cluster.groupby(\"Cluster\")\n",
    "        \n",
    "        \n",
    "        #Loop over each value of cluster\n",
    "        for i in value_cluster:\n",
    "            \n",
    "            \n",
    "            #Get corresponding group of tickers\n",
    "            tickers_in_i = grouped_cluster.get_group(i)\n",
    "            \n",
    "            #Loop for each sector\n",
    "            for sector in tickers[\"Sector\"].unique():\n",
    "                \n",
    "\n",
    "                #Number of tickers in cluster i belonging to sector\n",
    "                matching_tickers = len(np.where(grouped_tickers_sector.get_group(sector)[\"Symbol\"].isin(grouped_cluster.get_group(i).index))[0])\n",
    "                #Add this number of matching tickers to dataframe at right place\n",
    "                \n",
    "                df[sector][i] = df[sector][i] + matching_tickers\n",
    "    \n",
    "    #create percentages by column of by line\n",
    "    if axis == 0:\n",
    "        for index in range(k):\n",
    "            df.iloc[index] = df.iloc[index] / df.iloc[index].sum() * 100\n",
    "    else:\n",
    "        df = df / df.sum(axis=0) * 100\n",
    "\n",
    "        \n",
    "    #Take out lines with all values under threshold for visibility\n",
    "    drop_index = np.where(((df >= threshold) * df).sum(axis=1) == 0)[0]\n",
    "    df.drop(drop_index, axis=0, inplace=True)\n",
    "    \n",
    "    #Round number with 1 decimal\n",
    "    df = df.round(decimals=1)\n",
    "    return (df)"
   ]
  },
  {
   "cell_type": "code",
   "execution_count": null,
   "metadata": {},
   "outputs": [],
   "source": [
    "df = composition_matrix(tickers, relabeled, axis=1, threshold=2)\n",
    "df"
   ]
  },
  {
   "cell_type": "code",
   "execution_count": null,
   "metadata": {},
   "outputs": [],
   "source": [
    "fig, ax = plt.subplots(figsize=(8, 6))\n",
    "sns.heatmap(df, annot=True, cmap=\"YlGnBu\")\n",
    "plt.savefig(\"plots/composition_matrix.svg\", format=\"svg\")"
   ]
  }
 ],
 "metadata": {
  "kernelspec": {
   "display_name": "Python 3",
   "language": "python",
   "name": "python3"
  },
  "language_info": {
   "codemirror_mode": {
    "name": "ipython",
    "version": 3
   },
   "file_extension": ".py",
   "mimetype": "text/x-python",
   "name": "python",
   "nbconvert_exporter": "python",
   "pygments_lexer": "ipython3",
   "version": "3.8.12"
  }
 },
 "nbformat": 4,
 "nbformat_minor": 4
}
